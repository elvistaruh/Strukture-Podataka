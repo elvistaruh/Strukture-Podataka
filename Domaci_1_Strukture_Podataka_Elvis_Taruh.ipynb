{
  "nbformat": 4,
  "nbformat_minor": 0,
  "metadata": {
    "colab": {
      "provenance": []
    },
    "kernelspec": {
      "name": "python3",
      "display_name": "Python 3"
    },
    "language_info": {
      "name": "python"
    }
  },
  "cells": [
    {
      "cell_type": "markdown",
      "source": [
        "Zadatak 1t. Napisati rekurzivu funkciju koja provjerava koliko zadati broj ima parnih cifara."
      ],
      "metadata": {
        "id": "8CBQGjl01KS4"
      }
    },
    {
      "cell_type": "code",
      "execution_count": 1,
      "metadata": {
        "id": "HAKUEwxByyRy"
      },
      "outputs": [],
      "source": [
        "def broj_parnih_cifara(broj):\n",
        "    if broj < 10:\n",
        "      if broj % 2 == 0:\n",
        "        return 1\n",
        "      else:\n",
        "        return 0\n",
        "    if broj > 10:\n",
        "      return (broj % 10 % 2 == 0) + broj_parnih_cifara(broj // 10)"
      ]
    },
    {
      "cell_type": "code",
      "source": [
        "broj_parnih_cifara(1223788)"
      ],
      "metadata": {
        "colab": {
          "base_uri": "https://localhost:8080/"
        },
        "id": "8u1Ndn4Q0dzg",
        "outputId": "7823b386-b546-4456-cf30-c24c69c6d18e"
      },
      "execution_count": 5,
      "outputs": [
        {
          "output_type": "execute_result",
          "data": {
            "text/plain": [
              "4"
            ]
          },
          "metadata": {},
          "execution_count": 5
        }
      ]
    },
    {
      "cell_type": "markdown",
      "source": [
        "Zadatak 1i. Napisati rekurzivnu funkciju koja vraća proizvod cifara zadatog broja n."
      ],
      "metadata": {
        "id": "kRfG-ZO91TYO"
      }
    },
    {
      "cell_type": "code",
      "source": [
        "def proizvod_cifara(broj):\n",
        "  if broj < 10:\n",
        "    return broj\n",
        "  else:\n",
        "    return (broj % 10) * proizvod_cifara(broj//10)"
      ],
      "metadata": {
        "id": "Nw-J6ZQS1b6e"
      },
      "execution_count": 6,
      "outputs": []
    },
    {
      "cell_type": "code",
      "source": [
        "proizvod_cifara(1234)"
      ],
      "metadata": {
        "colab": {
          "base_uri": "https://localhost:8080/"
        },
        "id": "totCCcmc2MIf",
        "outputId": "47cd40dd-cbb0-4a18-80df-fd2e0c2b3442"
      },
      "execution_count": 7,
      "outputs": [
        {
          "output_type": "execute_result",
          "data": {
            "text/plain": [
              "24"
            ]
          },
          "metadata": {},
          "execution_count": 7
        }
      ]
    },
    {
      "cell_type": "markdown",
      "source": [
        "Zadatak 1m. Napisati rekurzivnu funkciju koja vraća poslednje veliko slovo zadatog\n",
        "stringa.\n"
      ],
      "metadata": {
        "id": "-3eHW0hd2gK6"
      }
    },
    {
      "cell_type": "code",
      "source": [
        "def poslednje_veliko_slovo(string):\n",
        "    if not string:\n",
        "        return None\n",
        "    if string[-1].isupper():\n",
        "        return string[-1]\n",
        "    return poslednje_veliko_slovo(string[:-1])"
      ],
      "metadata": {
        "id": "r5bAhtst2w9N"
      },
      "execution_count": 9,
      "outputs": []
    },
    {
      "cell_type": "code",
      "source": [
        "poslednje_veliko_slovo(\"Rekurzija je komplikovana ali lijEpa\")"
      ],
      "metadata": {
        "colab": {
          "base_uri": "https://localhost:8080/",
          "height": 36
        },
        "id": "1qBJkOlL3hSO",
        "outputId": "b8452320-d8ac-4b80-e26b-63464bf06ef9"
      },
      "execution_count": 15,
      "outputs": [
        {
          "output_type": "execute_result",
          "data": {
            "text/plain": [
              "'E'"
            ],
            "application/vnd.google.colaboratory.intrinsic+json": {
              "type": "string"
            }
          },
          "metadata": {},
          "execution_count": 15
        }
      ]
    },
    {
      "cell_type": "markdown",
      "source": [
        "Zadatak 1n. Napisati rekurzivnu funkciju sa dva parametra koja vraća stepenovan\n",
        "broj x. Parametri su broj koji se stepenuje i stepen"
      ],
      "metadata": {
        "id": "kQzpJu8u4DZ1"
      }
    },
    {
      "cell_type": "code",
      "source": [
        "def stepen_broja(broj, stepen):\n",
        "    if stepen == 0:\n",
        "        return 1\n",
        "    return broj * stepen_broja(broj, stepen - 1)"
      ],
      "metadata": {
        "id": "szwDzyoJ65gV"
      },
      "execution_count": 21,
      "outputs": []
    },
    {
      "cell_type": "code",
      "source": [
        "print(stepen_broja(5,3))"
      ],
      "metadata": {
        "colab": {
          "base_uri": "https://localhost:8080/"
        },
        "id": "VH3pbxsX6Sel",
        "outputId": "cdf674e7-4845-41a6-ec9f-3f58a3c59453"
      },
      "execution_count": 22,
      "outputs": [
        {
          "output_type": "stream",
          "name": "stdout",
          "text": [
            "125\n"
          ]
        }
      ]
    },
    {
      "cell_type": "markdown",
      "source": [
        "Zadatak 2r. Data je jednostruko olančana lista. Transformisati postojeću ili kreirati\n",
        "novu jednostruko olančanu listu tako da prvi dio liste čine negativni\n",
        "brojevi, a ostatak pozitivni brojevi. Elemente čija je vrijednost 0 smjestiti\n",
        "na kraj liste. Potrebno je očuvati raspored iz originalne liste."
      ],
      "metadata": {
        "id": "rHsJAf277pTE"
      }
    },
    {
      "cell_type": "code",
      "source": [
        "class Node:\n",
        "    def __init__(self, val=0, next=None):\n",
        "        self.val = val\n",
        "        self.next = next\n",
        "\n",
        "class LinkedList:\n",
        "    def __init__(self,head=None):\n",
        "        self.head = head\n",
        "\n",
        "    def append(self, new_element):\n",
        "        if not self.head:\n",
        "            self.head = new_element\n",
        "        else:\n",
        "            current = self.head\n",
        "            while current.next:\n",
        "                current = current.next\n",
        "            current.next = new_element\n",
        "\n",
        "    def transformacija_liste(self):\n",
        "        if not self.head:\n",
        "            return None\n",
        "\n",
        "        negativni_head = negativni_tail = Node()\n",
        "        pozitivni_head = pozitivni_tail = Node()\n",
        "        nule_head = nule_tail = Node()\n",
        "\n",
        "        current = self.head\n",
        "        while current:\n",
        "            if current.val < 0:\n",
        "                negativni_tail.next = Node(current.val)\n",
        "                negativni_tail = negativni_tail.next\n",
        "            elif current.val > 0:\n",
        "                pozitivni_tail.next = Node(current.val)\n",
        "                pozitivni_tail = pozitivni_tail.next\n",
        "            else:\n",
        "                nule_tail.next = Node(current.val)\n",
        "                nule_tail = nule_tail.next\n",
        "            current = current.next\n",
        "\n",
        "        negativni_tail.next = pozitivni_head.next\n",
        "        pozitivni_tail.next = nule_head.next\n",
        "\n",
        "        return negativni_head.next\n",
        "\n",
        "    def stampaj(self, head=None):\n",
        "        current = head if head else self.head\n",
        "        while current:\n",
        "            print(current.val, end=\" \")\n",
        "            current = current.next\n",
        "        print()\n",
        "\n",
        "\n",
        "n1 = Node(1)\n",
        "n2 = Node(0)\n",
        "n3 = Node(-4)\n",
        "n4 = Node(13)\n",
        "n5 = Node(-2)\n",
        "n6 = Node(3)\n",
        "n7 = Node(2)\n",
        "\n",
        "lista = LinkedList()\n",
        "\n",
        "\n",
        "lista.append(n7)\n",
        "lista.append(n6)\n",
        "lista.append(n5)\n",
        "lista.append(n4)\n",
        "lista.append(n3)\n",
        "lista.append(n2)\n",
        "lista.append(n1)\n",
        "\n",
        "# Stampam listu\n",
        "lista.stampaj()\n",
        "print('********************')\n",
        "\n",
        "# Transformacija liste\n",
        "nova_transformirana_lista = lista.transformacija_liste()\n",
        "\n",
        "# Nova transformisana lista stampanje\n",
        "print(\"Lista nakon transformacije\")\n",
        "lista.stampaj(nova_transformirana_lista)\n",
        "\n",
        "\n"
      ],
      "metadata": {
        "colab": {
          "base_uri": "https://localhost:8080/"
        },
        "id": "UitZGPtG8aQS",
        "outputId": "5244428c-6273-4366-e031-0b40faccd1c1"
      },
      "execution_count": 33,
      "outputs": [
        {
          "output_type": "stream",
          "name": "stdout",
          "text": [
            "2 3 -2 13 -4 0 1 \n",
            "********************\n",
            "Lista nakon transformacije\n",
            "-2 -4 2 3 13 1 0 \n"
          ]
        }
      ]
    },
    {
      "cell_type": "markdown",
      "source": [
        "Zadatak 2t. Napisati funkciju custom_count(value) koja za zadatu jednostruko\n",
        "olančanu listu prebrojava koliko elemenata je veće od zadate\n",
        "vrijednosti. Elementi liste su cijeli brojevi. Zadatak testirati na listi koja\n",
        "ima bar 5 elemenata.\n"
      ],
      "metadata": {
        "id": "YomvxV2ECTKh"
      }
    },
    {
      "cell_type": "code",
      "source": [
        "class Node:\n",
        "    def __init__(self, val=0, next=None):\n",
        "        self.val = val\n",
        "        self.next = next\n",
        "\n",
        "class LinkedList:\n",
        "    def __init__(self,head=None):\n",
        "        self.head = head\n",
        "\n",
        "    def append(self, new_element):\n",
        "        if not self.head:\n",
        "            self.head = new_element\n",
        "        else:\n",
        "            current = self.head\n",
        "            while current.next:\n",
        "                current = current.next\n",
        "            current.next = new_element\n",
        "\n",
        "    def stampaj(self, head=None):\n",
        "         current = head if head else self.head\n",
        "         while current:\n",
        "             print(current.val, end=\" \")\n",
        "             current = current.next\n",
        "         print()\n",
        "\n",
        "def custom_count(head, value):\n",
        "    count = 0\n",
        "    current = head\n",
        "    while current:\n",
        "        if current.val > value:\n",
        "            count += 1\n",
        "        current = current.next\n",
        "    return count\n",
        "\n",
        "# Kreiranje čvorova i dodavanje u listu\n",
        "n1 = Node(1)\n",
        "n2 = Node(5)\n",
        "n3 = Node(3)\n",
        "n4 = Node(7)\n",
        "n5 = Node(9)\n",
        "n6 = Node(4)\n",
        "n7 = Node(2)\n",
        "n8 = Node(11)\n",
        "n9 = Node(44)\n",
        "n10 = Node(0)\n",
        "\n",
        "lista = LinkedList()\n",
        "lista.append(n1)\n",
        "lista.append(n2)\n",
        "lista.append(n3)\n",
        "lista.append(n4)\n",
        "lista.append(n5)\n",
        "lista.append(n6)\n",
        "lista.append(n7)\n",
        "lista.append(n8)\n",
        "lista.append(n9)\n",
        "lista.append(n10)\n",
        "\n",
        "# Prvo cu stampati listu\n",
        "print(\"Lista koju posmatramo je: \")\n",
        "lista.stampaj()\n",
        "print('********************')\n",
        "value = 4\n",
        "print(\"Broj elemenata većih od\", value, \"je:\", custom_count(lista.head, value))"
      ],
      "metadata": {
        "colab": {
          "base_uri": "https://localhost:8080/"
        },
        "id": "e-TWUeyPCX4o",
        "outputId": "6bdaf3ae-2f51-4e97-ae98-b9deaac97fb4"
      },
      "execution_count": 37,
      "outputs": [
        {
          "output_type": "stream",
          "name": "stdout",
          "text": [
            "Lista koju posmatramo je: \n",
            "1 5 3 7 9 4 2 11 44 0 \n",
            "********************\n",
            "Broj elemenata većih od 4 je: 5\n"
          ]
        }
      ]
    },
    {
      "cell_type": "markdown",
      "source": [
        "Zadatak 2w. Kreirati jednostruko olančanu listu, gdje svaki čvor predstavlja pjesmu.\n",
        "Data dio svakog čvora sadrži 4 podatka i to naziv (string), zanr (string),\n",
        "godina (int), ocjena (float) pjesme.\n",
        "\n",
        "i. Izračunati ukupnu prosječnu ocjenu svih pjesama za zadatu\n",
        "godinu (godina parametar funkcije).\n",
        "\n",
        "ii. Štampati one pjesme čija je čija je godina manja od zadate\n",
        "godine (parametar funkcije max_godina).\n",
        "\n",
        "Input: 2000 - 1993 - 2011 - 2007; 2007 Output: 2000 - 1993\n",
        "iii. Štampati pjesme koje imaju veću ocjenu od prosječne ocjene\n",
        "svih pjesama. Iskoristiti funkciju pod a) za računanje prosječne\n",
        "ocjene.\n",
        "\n",
        "iv. Sve funkcije je potrebno pozvati i testirati za bar 5 pjesama.\n",
        "\n"
      ],
      "metadata": {
        "id": "qzwqg_rZDZ4R"
      }
    },
    {
      "cell_type": "code",
      "source": [
        "class Pjesma:\n",
        "    def __init__(self, naziv, zanr, godina, ocjena):\n",
        "        self.naziv = naziv\n",
        "        self.zanr = zanr\n",
        "        self.godina = godina\n",
        "        self.ocjena = ocjena\n",
        "        self.next = None\n",
        "\n",
        "class LinkedList:\n",
        "    def __init__(self):\n",
        "        self.head = None\n",
        "\n",
        "    def append(self, pjesma):\n",
        "        if not self.head:\n",
        "            self.head = pjesma\n",
        "        else:\n",
        "            current = self.head\n",
        "            while current.next:\n",
        "                current = current.next\n",
        "            current.next = pjesma\n",
        "\n",
        "    def prosjecna_ocjena_za_godinu(self, godina):\n",
        "        suma_ocjena = 0\n",
        "        broj_pjesama = 0\n",
        "        current = self.head\n",
        "        while current:\n",
        "            if current.godina == godina:\n",
        "                suma_ocjena += current.ocjena\n",
        "                broj_pjesama += 1\n",
        "            current = current.next\n",
        "        if broj_pjesama == 0:\n",
        "            return 0\n",
        "        return suma_ocjena / broj_pjesama\n",
        "\n",
        "    def ukupna_prosjecna_ocjena(self):\n",
        "        suma_ocjena = 0\n",
        "        broj_pjesama = 0\n",
        "        current = self.head\n",
        "        while current:\n",
        "            suma_ocjena += current.ocjena\n",
        "            broj_pjesama += 1\n",
        "            current = current.next\n",
        "        if broj_pjesama == 0:\n",
        "            return 0\n",
        "        return suma_ocjena / broj_pjesama\n",
        "\n",
        "    def stampanje_pjesama_manjih_od_godine(self, max_godina):\n",
        "        current = self.head\n",
        "        while current:\n",
        "            if current.godina < max_godina:\n",
        "                print(f\"{current.naziv} - {current.godina}\")\n",
        "            current = current.next\n",
        "\n",
        "    def stampanje_vece_od_prosjecne(self):\n",
        "        prosjek = self.ukupna_prosjecna_ocjena()\n",
        "        current = self.head\n",
        "        while current:\n",
        "            if current.ocjena > prosjek:\n",
        "                print(f\"{current.naziv} - {current.ocjena}\")\n",
        "            current = current.next\n",
        "\n",
        "\n",
        "pjesma1 = Pjesma(\"Zarasle su staze moje\", \"Sevdah\", 1962, 4.5)\n",
        "pjesma2 = Pjesma(\"Beat It\", \"Hard Rock\", 1982, 4.0)\n",
        "pjesma3 = Pjesma(\"Mira Skoric\", \"Rap\", 2015, 3.2)\n",
        "pjesma4 = Pjesma(\"Rolling in the Deep\", \"Soul Music\", 2011, 3.7)\n",
        "pjesma5 = Pjesma(\"Zapisano je u vremenu\", \"Pop-Folk\", 2007, 4.2)\n",
        "pjesma6 = Pjesma(\"See you again\", \"Pop\", 2015, 3.9)\n",
        "pjesma7 = Pjesma(\"Dal ona zna\", \"Pop-Rok\", 2007, 4.8)\n",
        "\n",
        "\n",
        "lista_pjesama = LinkedList()\n",
        "lista_pjesama.append(pjesma1)\n",
        "lista_pjesama.append(pjesma2)\n",
        "lista_pjesama.append(pjesma3)\n",
        "lista_pjesama.append(pjesma4)\n",
        "lista_pjesama.append(pjesma5)\n",
        "lista_pjesama.append(pjesma6)\n",
        "lista_pjesama.append(pjesma7)\n",
        "\n",
        "# Izračun ukupnog prosjeka ocjena za sve pjesme\n",
        "ukupni_prosjek = lista_pjesama.ukupna_prosjecna_ocjena()\n",
        "print(f\"Ukupna prosječna ocjena za sve pjesme je: {ukupni_prosjek}\")\n",
        "\n",
        "# Ispis pjesama čija je godina manja od 2007\n",
        "max_godina = 2007\n",
        "print(\"Pjesme čija je godina manja od 2007:\")\n",
        "lista_pjesama.stampanje_pjesama_manjih_od_godine(max_godina)\n",
        "\n",
        "# Ispis pjesama s ocjenom većom od ukupnog prosjeka\n",
        "print(\"Pjesme s ocjenom većom od prosjeka:\")\n",
        "lista_pjesama.stampanje_vece_od_prosjecne()\n"
      ],
      "metadata": {
        "colab": {
          "base_uri": "https://localhost:8080/"
        },
        "id": "mY8_YshhEBHT",
        "outputId": "06aaffcc-75bb-45f8-a862-56d532e6c70b"
      },
      "execution_count": 40,
      "outputs": [
        {
          "output_type": "stream",
          "name": "stdout",
          "text": [
            "Ukupna prosječna ocjena za sve pjesme je: 4.042857142857143\n",
            "Pjesme čija je godina manja od 2007:\n",
            "Zarasle su staze moje - 1962\n",
            "Beat It - 1982\n",
            "Pjesme s ocjenom većom od prosjeka:\n",
            "Zarasle su staze moje - 4.5\n",
            "Zapisano je u vremenu - 4.2\n",
            "Dal ona zna - 4.8\n"
          ]
        }
      ]
    },
    {
      "cell_type": "markdown",
      "source": [
        "Zadatak 4. U dvostruko povezanu listu smještaju se cjelobrojni podaci. Napisati funkciju\n",
        "prizbaciN (head, tail, N), head pokazivac na prvi, a tail pokazivac na\n",
        "poslednji element liste, N broj elemenata liste, koja će iz liste izbaciti zadnjih N elemenata. Ako u listi ima manje od N elemenata, funkcija ih treba izbaciti sve. Funkcija treba vratiti broj izbacenih elemenata"
      ],
      "metadata": {
        "id": "WPYGMFBCOG1C"
      }
    },
    {
      "cell_type": "code",
      "source": [
        "class Node:\n",
        "    def __init__(self, data):\n",
        "        self.data = data\n",
        "        self.prev = None\n",
        "        self.next = None\n",
        "\n",
        "class DoublyLinkedList:\n",
        "    def __init__(self):\n",
        "        self.head = None\n",
        "        self.tail = None\n",
        "        self.length = 0\n",
        "\n",
        "    def append(self, data):\n",
        "        new_node = Node(data)\n",
        "        if not self.head:\n",
        "            self.head = new_node\n",
        "            self.tail = new_node\n",
        "        else:\n",
        "            new_node.prev = self.tail\n",
        "            self.tail.next = new_node\n",
        "            self.tail = new_node\n",
        "        self.length += 1\n",
        "\n",
        "    def pop_last(self):\n",
        "        if not self.head:\n",
        "            return None\n",
        "        if self.length == 1:\n",
        "            data = self.head.data\n",
        "            self.head = None\n",
        "            self.tail = None\n",
        "            self.length = 0\n",
        "            return data\n",
        "        else:\n",
        "            data = self.tail.data\n",
        "            self.tail = self.tail.prev\n",
        "            self.tail.next = None\n",
        "            self.length -= 1\n",
        "            return data\n",
        "\n",
        "    def prizbaciN(self, head, tail, N):\n",
        "        count = 0\n",
        "        while count < N and tail:\n",
        "            tail = tail.prev\n",
        "            count += 1\n",
        "        if not tail:\n",
        "            self.head = None\n",
        "            self.tail = None\n",
        "            return count\n",
        "        if tail.prev:\n",
        "            tail.prev.next = None\n",
        "        else:\n",
        "            self.head = None\n",
        "        return count\n",
        "\n",
        "    def stampaj(self):\n",
        "        current = self.head\n",
        "        while current:\n",
        "            print(current.data, end=\" \")\n",
        "            current = current.next\n",
        "        print()\n",
        "\n",
        "\n",
        "\n",
        "lista = DoublyLinkedList()\n",
        "lista.append(1)\n",
        "lista.append(2)\n",
        "lista.append(3)\n",
        "lista.append(4)\n",
        "lista.append(5)\n",
        "\n",
        "print(\"Broj izbačenih elemenata:\", lista.prizbaciN(lista.head, lista.tail, 2))\n",
        "print(\"Novi sadržaj liste:\")\n",
        "lista.stampaj()\n"
      ],
      "metadata": {
        "colab": {
          "base_uri": "https://localhost:8080/"
        },
        "id": "ngqQNVKKONkq",
        "outputId": "870d7b79-90e2-4043-f1f7-a22ca98fc6f6"
      },
      "execution_count": 47,
      "outputs": [
        {
          "output_type": "stream",
          "name": "stdout",
          "text": [
            "Broj izbačenih elemenata: 2\n",
            "Novi sadržaj liste:\n",
            "1 2 \n"
          ]
        }
      ]
    },
    {
      "cell_type": "markdown",
      "source": [
        "Kreirati dvostruko olančanu listu, gdje svaki čvor predstavlja film. Data dio\n",
        "svakog čvora sadrži 4 podatka i to naziv (string), zanr (string), godina (int),\n",
        "ocjena (float) filma.\n",
        "\n",
        "a. Izračunati ukupanu prosječnu ocjenu svih filmova za zadatu godinu\n",
        "(godina parametar funkcije).\n",
        "\n",
        "b. Štampati one filmove čija je čija je godina veća ili jednaka zadatoj\n",
        "godini (parametar funkcije min_godina)\n",
        "\n",
        "Input: 2000 - 1993 - 2011 - 2007; 2007 Output: 2011 - 2007\n",
        "c. Štampati koliko filmova zadati žanr(zanr se zadaje kao parametar\n",
        "funkcije).\n",
        "\n",
        "d. Sve funkcije je potrebno pozvati i testirati za bar 5 filmova.\n"
      ],
      "metadata": {
        "id": "xZRfgDlmRnsR"
      }
    },
    {
      "cell_type": "code",
      "source": [
        "class Film:\n",
        "    def __init__(self, naziv, zanr, godina, ocjena):\n",
        "        self.naziv = naziv\n",
        "        self.zanr = zanr\n",
        "        self.godina = godina\n",
        "        self.ocjena = ocjena\n",
        "        self.prev = None\n",
        "        self.next = None\n",
        "\n",
        "class DoublyLinkedList:\n",
        "    def __init__(self):\n",
        "        self.head = None\n",
        "        self.tail = None\n",
        "        self.length = 0\n",
        "\n",
        "    def append(self, film):\n",
        "        new_node = Film(film.naziv, film.zanr, film.godina, film.ocjena)\n",
        "        if not self.head:\n",
        "            self.head = new_node\n",
        "            self.tail = new_node\n",
        "        else:\n",
        "            new_node.prev = self.tail\n",
        "            self.tail.next = new_node\n",
        "            self.tail = new_node\n",
        "        self.length += 1\n",
        "\n",
        "    def prosjecna_ocjena_za_godinu(self, godina):\n",
        "        suma_ocjena = 0\n",
        "        broj_filmova = 0\n",
        "        current = self.head\n",
        "        while current:\n",
        "            if current.godina == godina:\n",
        "                suma_ocjena += current.ocjena\n",
        "                broj_filmova += 1\n",
        "            current = current.next\n",
        "        if broj_filmova == 0:\n",
        "            return 0\n",
        "        return suma_ocjena / broj_filmova\n",
        "\n",
        "    def filmovi_veci_od_godine(self, min_godina):\n",
        "        current = self.head\n",
        "        while current:\n",
        "            if current.godina >= min_godina:\n",
        "                print(f\"{current.naziv} - {current.godina}\")\n",
        "            current = current.next\n",
        "\n",
        "    def broj_filmova_po_zanru(self, zanr):\n",
        "        count = 0\n",
        "        current = self.head\n",
        "        while current:\n",
        "            if current.zanr == zanr:\n",
        "                count += 1\n",
        "            current = current.next\n",
        "        return count\n",
        "\n",
        "\n",
        "film1 = Film(\"Poslednji Krug u Monci\", \"Action\", 1989, 9.3)\n",
        "film2 = Film(\"The Godfather\", \"Crime\", 1972, 9.2)\n",
        "film3 = Film(\"Scarface\", \"Crime\", 1983, 9.0)\n",
        "film4 = Film(\"Interstellar\", \"SciFi\", 2014, 9.9)\n",
        "film5 = Film(\"Inception\", \"Action\", 2010, 8.8)\n",
        "film6 = Film(\"The Fellowship of the Ring\", \"Adventure-Fiction\", 2001, 9.4)\n",
        "film7 = Film(\"Nacionalna Klasa\", \"Drama\", 1979, 8.4)\n",
        "film8 = Film(\"The Matrix\", \"SciFi\", 2001, 8.9)\n",
        "film9 = Film(\"Montevideo\", \"Adventure\", 2010, 8.1)\n",
        "film10 = Film(\"Lajanje na zvijezde\", \"Romance\", 1998, 8.6)\n",
        "\n",
        "lista_filmova = DoublyLinkedList()\n",
        "lista_filmova.append(film1)\n",
        "lista_filmova.append(film2)\n",
        "lista_filmova.append(film3)\n",
        "lista_filmova.append(film4)\n",
        "lista_filmova.append(film5)\n",
        "lista_filmova.append(film6)\n",
        "lista_filmova.append(film7)\n",
        "lista_filmova.append(film8)\n",
        "lista_filmova.append(film9)\n",
        "lista_filmova.append(film10)\n",
        "\n",
        "# a. Prosječna ocjena za godinu 1994\n",
        "godina = 2001\n",
        "prosjek = lista_filmova.prosjecna_ocjena_za_godinu(godina)\n",
        "print(f\"Prosječna ocjena za godinu {godina}: {prosjek}\")\n",
        "\n",
        "# b. Filmovi čija je godina veća ili jednaka 2007\n",
        "min_godina = 2007\n",
        "print(f\"Filmovi čija je godina veća ili jednaka {min_godina}:\")\n",
        "lista_filmova.filmovi_veci_od_godine(min_godina)\n",
        "\n",
        "# c. Broj filmova žanra \"Drama\"\n",
        "zanr = \"SciFi\"\n",
        "broj_drama = lista_filmova.broj_filmova_po_zanru(zanr)\n",
        "print(f\"Broj filmova žanra {zanr}: {broj_drama}\")\n"
      ],
      "metadata": {
        "colab": {
          "base_uri": "https://localhost:8080/"
        },
        "id": "hwpnwPgERxTs",
        "outputId": "45239e2a-3216-4a8b-9c5d-7ec55af3350a"
      },
      "execution_count": 55,
      "outputs": [
        {
          "output_type": "stream",
          "name": "stdout",
          "text": [
            "Prosječna ocjena za godinu 2001: 9.15\n",
            "Filmovi čija je godina veća ili jednaka 2007:\n",
            "Interstellar - 2014\n",
            "Inception - 2010\n",
            "Montevideo - 2010\n",
            "Broj filmova žanra SciFi: 2\n"
          ]
        }
      ]
    }
  ]
}