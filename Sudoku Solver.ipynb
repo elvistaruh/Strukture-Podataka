{
  "nbformat": 4,
  "nbformat_minor": 0,
  "metadata": {
    "colab": {
      "provenance": []
    },
    "kernelspec": {
      "name": "python3",
      "display_name": "Python 3"
    },
    "language_info": {
      "name": "python"
    }
  },
  "cells": [
    {
      "cell_type": "code",
      "execution_count": null,
      "metadata": {
        "colab": {
          "base_uri": "https://localhost:8080/"
        },
        "id": "7An9VaodQEvU",
        "outputId": "b9a28278-6512-4a08-e7a8-15ac77c5230a"
      },
      "outputs": [
        {
          "output_type": "stream",
          "name": "stdout",
          "text": [
            "[9, 5, 6, 3, 8, 7, 4, 2, 1]\n",
            "[4, 3, 7, 6, 2, 1, 5, 8, 9]\n",
            "[8, 1, 2, 4, 5, 9, 7, 3, 6]\n",
            "[3, 9, 8, 2, 4, 5, 1, 6, 7]\n",
            "[2, 7, 4, 8, 1, 6, 3, 9, 5]\n",
            "[5, 6, 1, 9, 7, 3, 8, 4, 2]\n",
            "[7, 8, 9, 5, 3, 2, 6, 1, 4]\n",
            "[6, 4, 5, 1, 9, 8, 2, 7, 3]\n",
            "[1, 2, 3, 7, 6, 4, 9, 5, 8]\n"
          ]
        }
      ],
      "source": [
        "def is_valid(grid, r, c, k):\n",
        "    not_in_row = k not in grid[r]\n",
        "    not_in_column = k not in [grid[i][c] for i in range(9)]\n",
        "    not_in_box = k not in [grid[i][j] for i in range(r//3*3, r//3*3+3) for j in range(c//3*3, c//3*3+3)]\n",
        "    return not_in_row and not_in_column and not_in_box\n",
        "\n",
        "\n",
        "def solve(grid, r=0, c=0):\n",
        "    if r == 9:\n",
        "        return True\n",
        "    elif c == 9:\n",
        "        return solve(grid, r+1, 0)\n",
        "    elif grid[r][c] != 0:\n",
        "        return solve(grid, r, c+1)\n",
        "    else:\n",
        "        for k in range(1, 10):\n",
        "            if is_valid(grid, r, c, k):\n",
        "                grid[r][c] = k\n",
        "                if solve(grid, r, c+1):\n",
        "                    return True\n",
        "                grid[r][c] = 0\n",
        "        return False\n",
        "\n",
        "\n",
        "grid = [\n",
        "    [0, 0, 6, 0, 8, 0, 4, 0, 0],\n",
        "    [0, 0, 7, 0, 0, 1, 0, 8, 0],\n",
        "    [0, 0, 0, 4, 5, 0, 0, 0, 0],\n",
        "    [3, 0, 0, 2, 0, 5, 1, 0, 0],\n",
        "    [2, 0, 0, 0, 0, 6, 0, 9, 0],\n",
        "    [5, 0, 0, 0, 0, 0, 0, 4, 0],\n",
        "    [0, 0, 9, 0, 0, 2, 0, 1, 0],\n",
        "    [6, 0, 0, 0, 0, 8, 0, 0, 3],\n",
        "    [0, 0, 0, 0, 0, 0, 0, 0, 0]\n",
        "]\n",
        "solve(grid)\n",
        "print(*grid, sep='\\n')"
      ]
    }
  ]
}